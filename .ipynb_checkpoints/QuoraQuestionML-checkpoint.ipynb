{
 "cells": [
  {
   "cell_type": "code",
   "execution_count": 3,
   "metadata": {
    "collapsed": false
   },
   "outputs": [],
   "source": [
    "import pandas as pd\n",
    "import nltk\n",
    "import re\n",
    "import utilities as u\n",
    "import numpy as np\n",
    "import sklearn\n",
    "from sklearn.model_selection import train_test_split\n",
    "import collections\n",
    "from gensim.models import KeyedVectors\n",
    "EMBEDDING_FILE = '../GoogleNews-vectors-negative300.bin.gz'\n",
    "model = KeyedVectors.load_word2vec_format(EMBEDDING_FILE, binary=True)"
   ]
  },
  {
   "cell_type": "code",
   "execution_count": 4,
   "metadata": {
    "collapsed": false
   },
   "outputs": [
    {
     "name": "stderr",
     "output_type": "stream",
     "text": [
      "/Users/jac812i/virtualenvs/quoravenv/lib/python3.6/site-packages/IPython/core/interactiveshell.py:2785: DtypeWarning: Columns (0) have mixed types. Specify dtype option on import or set low_memory=False.\n",
      "  interactivity=interactivity, compiler=compiler, result=result)\n"
     ]
    }
   ],
   "source": [
    "train_df = pd.read_csv(\"../train.csv\")\n",
    "test_df = pd.read_csv(\"../test.csv\")"
   ]
  },
  {
   "cell_type": "code",
   "execution_count": 5,
   "metadata": {
    "collapsed": false
   },
   "outputs": [
    {
     "data": {
      "text/html": [
       "<div>\n",
       "<style scoped>\n",
       "    .dataframe tbody tr th:only-of-type {\n",
       "        vertical-align: middle;\n",
       "    }\n",
       "\n",
       "    .dataframe tbody tr th {\n",
       "        vertical-align: top;\n",
       "    }\n",
       "\n",
       "    .dataframe thead th {\n",
       "        text-align: right;\n",
       "    }\n",
       "</style>\n",
       "<table border=\"1\" class=\"dataframe\">\n",
       "  <thead>\n",
       "    <tr style=\"text-align: right;\">\n",
       "      <th></th>\n",
       "      <th>id</th>\n",
       "      <th>qid1</th>\n",
       "      <th>qid2</th>\n",
       "      <th>question1</th>\n",
       "      <th>question2</th>\n",
       "      <th>is_duplicate</th>\n",
       "    </tr>\n",
       "  </thead>\n",
       "  <tbody>\n",
       "    <tr>\n",
       "      <th>0</th>\n",
       "      <td>0</td>\n",
       "      <td>1</td>\n",
       "      <td>2</td>\n",
       "      <td>What is the step by step guide to invest in sh...</td>\n",
       "      <td>What is the step by step guide to invest in sh...</td>\n",
       "      <td>0</td>\n",
       "    </tr>\n",
       "    <tr>\n",
       "      <th>1</th>\n",
       "      <td>1</td>\n",
       "      <td>3</td>\n",
       "      <td>4</td>\n",
       "      <td>What is the story of Kohinoor (Koh-i-Noor) Dia...</td>\n",
       "      <td>What would happen if the Indian government sto...</td>\n",
       "      <td>0</td>\n",
       "    </tr>\n",
       "    <tr>\n",
       "      <th>2</th>\n",
       "      <td>2</td>\n",
       "      <td>5</td>\n",
       "      <td>6</td>\n",
       "      <td>How can I increase the speed of my internet co...</td>\n",
       "      <td>How can Internet speed be increased by hacking...</td>\n",
       "      <td>0</td>\n",
       "    </tr>\n",
       "    <tr>\n",
       "      <th>3</th>\n",
       "      <td>3</td>\n",
       "      <td>7</td>\n",
       "      <td>8</td>\n",
       "      <td>Why am I mentally very lonely? How can I solve...</td>\n",
       "      <td>Find the remainder when [math]23^{24}[/math] i...</td>\n",
       "      <td>0</td>\n",
       "    </tr>\n",
       "    <tr>\n",
       "      <th>4</th>\n",
       "      <td>4</td>\n",
       "      <td>9</td>\n",
       "      <td>10</td>\n",
       "      <td>Which one dissolve in water quikly sugar, salt...</td>\n",
       "      <td>Which fish would survive in salt water?</td>\n",
       "      <td>0</td>\n",
       "    </tr>\n",
       "  </tbody>\n",
       "</table>\n",
       "</div>"
      ],
      "text/plain": [
       "   id  qid1  qid2                                          question1  \\\n",
       "0   0     1     2  What is the step by step guide to invest in sh...   \n",
       "1   1     3     4  What is the story of Kohinoor (Koh-i-Noor) Dia...   \n",
       "2   2     5     6  How can I increase the speed of my internet co...   \n",
       "3   3     7     8  Why am I mentally very lonely? How can I solve...   \n",
       "4   4     9    10  Which one dissolve in water quikly sugar, salt...   \n",
       "\n",
       "                                           question2  is_duplicate  \n",
       "0  What is the step by step guide to invest in sh...             0  \n",
       "1  What would happen if the Indian government sto...             0  \n",
       "2  How can Internet speed be increased by hacking...             0  \n",
       "3  Find the remainder when [math]23^{24}[/math] i...             0  \n",
       "4            Which fish would survive in salt water?             0  "
      ]
     },
     "execution_count": 5,
     "metadata": {},
     "output_type": "execute_result"
    }
   ],
   "source": [
    "train_df.head(5)"
   ]
  },
  {
   "cell_type": "code",
   "execution_count": 6,
   "metadata": {
    "collapsed": false
   },
   "outputs": [
    {
     "data": {
      "text/html": [
       "<div>\n",
       "<style scoped>\n",
       "    .dataframe tbody tr th:only-of-type {\n",
       "        vertical-align: middle;\n",
       "    }\n",
       "\n",
       "    .dataframe tbody tr th {\n",
       "        vertical-align: top;\n",
       "    }\n",
       "\n",
       "    .dataframe thead th {\n",
       "        text-align: right;\n",
       "    }\n",
       "</style>\n",
       "<table border=\"1\" class=\"dataframe\">\n",
       "  <thead>\n",
       "    <tr style=\"text-align: right;\">\n",
       "      <th></th>\n",
       "      <th>test_id</th>\n",
       "      <th>question1</th>\n",
       "      <th>question2</th>\n",
       "    </tr>\n",
       "  </thead>\n",
       "  <tbody>\n",
       "    <tr>\n",
       "      <th>0</th>\n",
       "      <td>0</td>\n",
       "      <td>How does the Surface Pro himself 4 compare wit...</td>\n",
       "      <td>Why did Microsoft choose core m3 and not core ...</td>\n",
       "    </tr>\n",
       "    <tr>\n",
       "      <th>1</th>\n",
       "      <td>1</td>\n",
       "      <td>Should I have a hair transplant at age 24? How...</td>\n",
       "      <td>How much cost does hair transplant require?</td>\n",
       "    </tr>\n",
       "    <tr>\n",
       "      <th>2</th>\n",
       "      <td>2</td>\n",
       "      <td>What but is the best way to send money from Ch...</td>\n",
       "      <td>What you send money to China?</td>\n",
       "    </tr>\n",
       "    <tr>\n",
       "      <th>3</th>\n",
       "      <td>3</td>\n",
       "      <td>Which food not emulsifiers?</td>\n",
       "      <td>What foods fibre?</td>\n",
       "    </tr>\n",
       "    <tr>\n",
       "      <th>4</th>\n",
       "      <td>4</td>\n",
       "      <td>How \"aberystwyth\" start reading?</td>\n",
       "      <td>How their can I start reading?</td>\n",
       "    </tr>\n",
       "  </tbody>\n",
       "</table>\n",
       "</div>"
      ],
      "text/plain": [
       "  test_id                                          question1  \\\n",
       "0       0  How does the Surface Pro himself 4 compare wit...   \n",
       "1       1  Should I have a hair transplant at age 24? How...   \n",
       "2       2  What but is the best way to send money from Ch...   \n",
       "3       3                        Which food not emulsifiers?   \n",
       "4       4                   How \"aberystwyth\" start reading?   \n",
       "\n",
       "                                           question2  \n",
       "0  Why did Microsoft choose core m3 and not core ...  \n",
       "1        How much cost does hair transplant require?  \n",
       "2                      What you send money to China?  \n",
       "3                                  What foods fibre?  \n",
       "4                     How their can I start reading?  "
      ]
     },
     "execution_count": 6,
     "metadata": {},
     "output_type": "execute_result"
    }
   ],
   "source": [
    "test_df.head(5)"
   ]
  },
  {
   "cell_type": "markdown",
   "metadata": {},
   "source": [
    "# Identify Feature and Target columns"
   ]
  },
  {
   "cell_type": "code",
   "execution_count": 7,
   "metadata": {
    "collapsed": false
   },
   "outputs": [
    {
     "name": "stdout",
     "output_type": "stream",
     "text": [
      "Feature Columns ['id', 'qid1', 'qid2', 'question1', 'question2']\n",
      "Target Columns is_duplicate\n"
     ]
    }
   ],
   "source": [
    "# Extract feature (X) and target (y) columns\n",
    "feature_cols = list(train_df.columns[:-1])\n",
    "target_col = train_df.columns[-1]\n",
    "print (\"Feature Columns {}\".format(feature_cols))\n",
    "print (\"Target Columns {}\".format(target_col))\n",
    "X_all = train_df[feature_cols]\n",
    "y_all = pd.DataFrame(data=train_df[target_col], columns=[target_col])"
   ]
  },
  {
   "cell_type": "code",
   "execution_count": 8,
   "metadata": {
    "collapsed": false
   },
   "outputs": [
    {
     "data": {
      "text/plain": [
       "Counter({0: 255027, 1: 149263})"
      ]
     },
     "execution_count": 8,
     "metadata": {},
     "output_type": "execute_result"
    }
   ],
   "source": [
    "collections.Counter(y_all['is_duplicate'])"
   ]
  },
  {
   "cell_type": "code",
   "execution_count": 9,
   "metadata": {
    "collapsed": false
   },
   "outputs": [
    {
     "data": {
      "text/html": [
       "<div>\n",
       "<style scoped>\n",
       "    .dataframe tbody tr th:only-of-type {\n",
       "        vertical-align: middle;\n",
       "    }\n",
       "\n",
       "    .dataframe tbody tr th {\n",
       "        vertical-align: top;\n",
       "    }\n",
       "\n",
       "    .dataframe thead th {\n",
       "        text-align: right;\n",
       "    }\n",
       "</style>\n",
       "<table border=\"1\" class=\"dataframe\">\n",
       "  <thead>\n",
       "    <tr style=\"text-align: right;\">\n",
       "      <th></th>\n",
       "      <th>is_duplicate</th>\n",
       "    </tr>\n",
       "  </thead>\n",
       "  <tbody>\n",
       "    <tr>\n",
       "      <th>0</th>\n",
       "      <td>0</td>\n",
       "    </tr>\n",
       "    <tr>\n",
       "      <th>1</th>\n",
       "      <td>0</td>\n",
       "    </tr>\n",
       "    <tr>\n",
       "      <th>2</th>\n",
       "      <td>0</td>\n",
       "    </tr>\n",
       "    <tr>\n",
       "      <th>3</th>\n",
       "      <td>0</td>\n",
       "    </tr>\n",
       "    <tr>\n",
       "      <th>4</th>\n",
       "      <td>0</td>\n",
       "    </tr>\n",
       "    <tr>\n",
       "      <th>5</th>\n",
       "      <td>1</td>\n",
       "    </tr>\n",
       "    <tr>\n",
       "      <th>6</th>\n",
       "      <td>0</td>\n",
       "    </tr>\n",
       "  </tbody>\n",
       "</table>\n",
       "</div>"
      ],
      "text/plain": [
       "   is_duplicate\n",
       "0             0\n",
       "1             0\n",
       "2             0\n",
       "3             0\n",
       "4             0\n",
       "5             1\n",
       "6             0"
      ]
     },
     "execution_count": 9,
     "metadata": {},
     "output_type": "execute_result"
    }
   ],
   "source": [
    "y_all.head(7)"
   ]
  },
  {
   "cell_type": "code",
   "execution_count": 10,
   "metadata": {
    "collapsed": false
   },
   "outputs": [
    {
     "data": {
      "text/html": [
       "<div>\n",
       "<style scoped>\n",
       "    .dataframe tbody tr th:only-of-type {\n",
       "        vertical-align: middle;\n",
       "    }\n",
       "\n",
       "    .dataframe tbody tr th {\n",
       "        vertical-align: top;\n",
       "    }\n",
       "\n",
       "    .dataframe thead th {\n",
       "        text-align: right;\n",
       "    }\n",
       "</style>\n",
       "<table border=\"1\" class=\"dataframe\">\n",
       "  <thead>\n",
       "    <tr style=\"text-align: right;\">\n",
       "      <th></th>\n",
       "      <th>id</th>\n",
       "      <th>qid1</th>\n",
       "      <th>qid2</th>\n",
       "      <th>question1</th>\n",
       "      <th>question2</th>\n",
       "    </tr>\n",
       "  </thead>\n",
       "  <tbody>\n",
       "    <tr>\n",
       "      <th>0</th>\n",
       "      <td>0</td>\n",
       "      <td>1</td>\n",
       "      <td>2</td>\n",
       "      <td>What is the step by step guide to invest in sh...</td>\n",
       "      <td>What is the step by step guide to invest in sh...</td>\n",
       "    </tr>\n",
       "    <tr>\n",
       "      <th>1</th>\n",
       "      <td>1</td>\n",
       "      <td>3</td>\n",
       "      <td>4</td>\n",
       "      <td>What is the story of Kohinoor (Koh-i-Noor) Dia...</td>\n",
       "      <td>What would happen if the Indian government sto...</td>\n",
       "    </tr>\n",
       "    <tr>\n",
       "      <th>2</th>\n",
       "      <td>2</td>\n",
       "      <td>5</td>\n",
       "      <td>6</td>\n",
       "      <td>How can I increase the speed of my internet co...</td>\n",
       "      <td>How can Internet speed be increased by hacking...</td>\n",
       "    </tr>\n",
       "  </tbody>\n",
       "</table>\n",
       "</div>"
      ],
      "text/plain": [
       "   id  qid1  qid2                                          question1  \\\n",
       "0   0     1     2  What is the step by step guide to invest in sh...   \n",
       "1   1     3     4  What is the story of Kohinoor (Koh-i-Noor) Dia...   \n",
       "2   2     5     6  How can I increase the speed of my internet co...   \n",
       "\n",
       "                                           question2  \n",
       "0  What is the step by step guide to invest in sh...  \n",
       "1  What would happen if the Indian government sto...  \n",
       "2  How can Internet speed be increased by hacking...  "
      ]
     },
     "execution_count": 10,
     "metadata": {},
     "output_type": "execute_result"
    }
   ],
   "source": [
    "X_all.head(3)"
   ]
  },
  {
   "cell_type": "markdown",
   "metadata": {},
   "source": [
    "# Split data in training and validation sets"
   ]
  },
  {
   "cell_type": "markdown",
   "metadata": {},
   "source": [
    "# check whether data is balanced or not"
   ]
  },
  {
   "cell_type": "code",
   "execution_count": 11,
   "metadata": {
    "collapsed": false
   },
   "outputs": [
    {
     "name": "stdout",
     "output_type": "stream",
     "text": [
      "Total data set: 404290 samples\n",
      "Training set: 283003 samples\n",
      "Valid set: 121287 samples\n"
     ]
    }
   ],
   "source": [
    "\n",
    "X_train, X_valid, y_train, y_valid = train_test_split(X_all, y_all, test_size=0.30, random_state=42)\n",
    "print (\"Total data set: {} samples\".format(X_all.shape[0]))\n",
    "print (\"Training set: {} samples\".format(X_train.shape[0]))\n",
    "print (\"Valid set: {} samples\".format(X_valid.shape[0]))"
   ]
  },
  {
   "cell_type": "code",
   "execution_count": 12,
   "metadata": {
    "collapsed": false
   },
   "outputs": [
    {
     "data": {
      "text/plain": [
       "Counter({0: 178677, 1: 104326})"
      ]
     },
     "execution_count": 12,
     "metadata": {},
     "output_type": "execute_result"
    }
   ],
   "source": [
    "collections.Counter(y_train['is_duplicate'])"
   ]
  },
  {
   "cell_type": "code",
   "execution_count": 13,
   "metadata": {
    "collapsed": false
   },
   "outputs": [
    {
     "data": {
      "text/plain": [
       "Counter({0: 76350, 1: 44937})"
      ]
     },
     "execution_count": 13,
     "metadata": {},
     "output_type": "execute_result"
    }
   ],
   "source": [
    "collections.Counter(y_valid['is_duplicate'])"
   ]
  },
  {
   "cell_type": "code",
   "execution_count": 14,
   "metadata": {
    "collapsed": false
   },
   "outputs": [
    {
     "data": {
      "text/html": [
       "<div>\n",
       "<style scoped>\n",
       "    .dataframe tbody tr th:only-of-type {\n",
       "        vertical-align: middle;\n",
       "    }\n",
       "\n",
       "    .dataframe tbody tr th {\n",
       "        vertical-align: top;\n",
       "    }\n",
       "\n",
       "    .dataframe thead th {\n",
       "        text-align: right;\n",
       "    }\n",
       "</style>\n",
       "<table border=\"1\" class=\"dataframe\">\n",
       "  <thead>\n",
       "    <tr style=\"text-align: right;\">\n",
       "      <th></th>\n",
       "      <th>id</th>\n",
       "      <th>qid1</th>\n",
       "      <th>qid2</th>\n",
       "      <th>question1</th>\n",
       "      <th>question2</th>\n",
       "    </tr>\n",
       "  </thead>\n",
       "  <tbody>\n",
       "    <tr>\n",
       "      <th>8067</th>\n",
       "      <td>8067</td>\n",
       "      <td>15738</td>\n",
       "      <td>15739</td>\n",
       "      <td>How do I play Pokémon GO in Korea?</td>\n",
       "      <td>How do I play Pokémon GO in China?</td>\n",
       "    </tr>\n",
       "    <tr>\n",
       "      <th>368101</th>\n",
       "      <td>368101</td>\n",
       "      <td>12736</td>\n",
       "      <td>104117</td>\n",
       "      <td>What are some of the best side dishes for crab...</td>\n",
       "      <td>What are some good side dishes for buffalo chi...</td>\n",
       "    </tr>\n",
       "    <tr>\n",
       "      <th>70497</th>\n",
       "      <td>70497</td>\n",
       "      <td>121486</td>\n",
       "      <td>121487</td>\n",
       "      <td>Which is more advisable and better material fo...</td>\n",
       "      <td>What is the best server setup for buddypress?</td>\n",
       "    </tr>\n",
       "    <tr>\n",
       "      <th>226567</th>\n",
       "      <td>226567</td>\n",
       "      <td>254474</td>\n",
       "      <td>258192</td>\n",
       "      <td>How do I improve logical programming skills?</td>\n",
       "      <td>How can I improve my logical skills for progra...</td>\n",
       "    </tr>\n",
       "    <tr>\n",
       "      <th>73186</th>\n",
       "      <td>73186</td>\n",
       "      <td>48103</td>\n",
       "      <td>3062</td>\n",
       "      <td>How close we are to see 3rd world war?</td>\n",
       "      <td>How close is a World War III?</td>\n",
       "    </tr>\n",
       "  </tbody>\n",
       "</table>\n",
       "</div>"
      ],
      "text/plain": [
       "            id    qid1    qid2  \\\n",
       "8067      8067   15738   15739   \n",
       "368101  368101   12736  104117   \n",
       "70497    70497  121486  121487   \n",
       "226567  226567  254474  258192   \n",
       "73186    73186   48103    3062   \n",
       "\n",
       "                                                question1  \\\n",
       "8067                   How do I play Pokémon GO in Korea?   \n",
       "368101  What are some of the best side dishes for crab...   \n",
       "70497   Which is more advisable and better material fo...   \n",
       "226567       How do I improve logical programming skills?   \n",
       "73186              How close we are to see 3rd world war?   \n",
       "\n",
       "                                                question2  \n",
       "8067                   How do I play Pokémon GO in China?  \n",
       "368101  What are some good side dishes for buffalo chi...  \n",
       "70497       What is the best server setup for buddypress?  \n",
       "226567  How can I improve my logical skills for progra...  \n",
       "73186                       How close is a World War III?  "
      ]
     },
     "execution_count": 14,
     "metadata": {},
     "output_type": "execute_result"
    }
   ],
   "source": [
    "X_valid.head(5)"
   ]
  },
  {
   "cell_type": "code",
   "execution_count": 15,
   "metadata": {
    "collapsed": false
   },
   "outputs": [
    {
     "data": {
      "text/html": [
       "<div>\n",
       "<style scoped>\n",
       "    .dataframe tbody tr th:only-of-type {\n",
       "        vertical-align: middle;\n",
       "    }\n",
       "\n",
       "    .dataframe tbody tr th {\n",
       "        vertical-align: top;\n",
       "    }\n",
       "\n",
       "    .dataframe thead th {\n",
       "        text-align: right;\n",
       "    }\n",
       "</style>\n",
       "<table border=\"1\" class=\"dataframe\">\n",
       "  <thead>\n",
       "    <tr style=\"text-align: right;\">\n",
       "      <th></th>\n",
       "      <th>is_duplicate</th>\n",
       "    </tr>\n",
       "  </thead>\n",
       "  <tbody>\n",
       "    <tr>\n",
       "      <th>8067</th>\n",
       "      <td>0</td>\n",
       "    </tr>\n",
       "    <tr>\n",
       "      <th>368101</th>\n",
       "      <td>0</td>\n",
       "    </tr>\n",
       "    <tr>\n",
       "      <th>70497</th>\n",
       "      <td>0</td>\n",
       "    </tr>\n",
       "    <tr>\n",
       "      <th>226567</th>\n",
       "      <td>1</td>\n",
       "    </tr>\n",
       "    <tr>\n",
       "      <th>73186</th>\n",
       "      <td>1</td>\n",
       "    </tr>\n",
       "  </tbody>\n",
       "</table>\n",
       "</div>"
      ],
      "text/plain": [
       "        is_duplicate\n",
       "8067               0\n",
       "368101             0\n",
       "70497              0\n",
       "226567             1\n",
       "73186              1"
      ]
     },
     "execution_count": 15,
     "metadata": {},
     "output_type": "execute_result"
    }
   ],
   "source": [
    "y_valid.head(5)"
   ]
  },
  {
   "cell_type": "markdown",
   "metadata": {},
   "source": [
    "# Data Preprocessing"
   ]
  },
  {
   "cell_type": "code",
   "execution_count": 16,
   "metadata": {
    "collapsed": true
   },
   "outputs": [],
   "source": [
    "def create_vocabulary(words_list,df,column_name):\n",
    "    for sentence in df[column_name]:\n",
    "        for word in sentence:\n",
    "            words_list.append(word)\n",
    "    return words_list"
   ]
  },
  {
   "cell_type": "code",
   "execution_count": 17,
   "metadata": {
    "collapsed": true
   },
   "outputs": [],
   "source": [
    "def preprocess_baseline_text(text):\n",
    "    text = str(text)\n",
    "    text = text.lower()\n",
    "    text = text.split()\n",
    "    \n",
    "    return text"
   ]
  },
  {
   "cell_type": "code",
   "execution_count": null,
   "metadata": {
    "collapsed": true
   },
   "outputs": [],
   "source": []
  },
  {
   "cell_type": "code",
   "execution_count": 18,
   "metadata": {
    "collapsed": false
   },
   "outputs": [
    {
     "data": {
      "text/plain": [
       "['how', 'do', 'i', 'play', 'pokémon', 'go', 'in', 'korea?']"
      ]
     },
     "execution_count": 18,
     "metadata": {},
     "output_type": "execute_result"
    }
   ],
   "source": [
    "preprocess_baseline_text('How do I play Pokémon GO in Korea?')"
   ]
  },
  {
   "cell_type": "code",
   "execution_count": 21,
   "metadata": {
    "collapsed": true
   },
   "outputs": [],
   "source": [
    "X_train_subset_df['question1'] = X_train['question1'][0:10]"
   ]
  },
  {
   "cell_type": "code",
   "execution_count": 22,
   "metadata": {
    "collapsed": false
   },
   "outputs": [
    {
     "data": {
      "text/plain": [
       "20128        How is the working environment at SBI Life, Mu...\n",
       "296237                    How can a US citizen work in Canada?\n",
       "107095       What are the benefits of washing your hands wi...\n",
       "27940        How do the holy scriptures of Hinduism compare...\n",
       "251434       Is the humanoid shape inevitable for any speci...\n",
       "111381          How do I stop feeling sleepy in the workplace?\n",
       "403957                     Which phone should I buy under 15k?\n",
       "101177       Should I choose MFC Delhi or make another atte...\n",
       "78010                                  Do we really need love?\n",
       "57348        Frequently asked interview questions on streng...\n",
       "question1    20128     How is the working environment at SB...\n",
       "Name: question1, dtype: object"
      ]
     },
     "execution_count": 22,
     "metadata": {},
     "output_type": "execute_result"
    }
   ],
   "source": [
    "X_train_subset_df"
   ]
  },
  {
   "cell_type": "code",
   "execution_count": 24,
   "metadata": {
    "collapsed": true
   },
   "outputs": [],
   "source": [
    "X_train_subset_df_1 = pd.DataFrame()"
   ]
  },
  {
   "cell_type": "code",
   "execution_count": 25,
   "metadata": {
    "collapsed": false
   },
   "outputs": [],
   "source": [
    "X_train_subset_df_1['question1'] = X_train_subset_df['question1'].apply(lambda x:preprocess_baseline_text(x))"
   ]
  },
  {
   "cell_type": "code",
   "execution_count": 26,
   "metadata": {
    "collapsed": false
   },
   "outputs": [
    {
     "data": {
      "text/plain": [
       "20128     [how, is, the, working, environment, at, sbi, ...\n",
       "296237        [how, can, a, us, citizen, work, in, canada?]\n",
       "107095    [what, are, the, benefits, of, washing, your, ...\n",
       "27940     [how, do, the, holy, scriptures, of, hinduism,...\n",
       "251434    [is, the, humanoid, shape, inevitable, for, an...\n",
       "111381    [how, do, i, stop, feeling, sleepy, in, the, w...\n",
       "403957          [which, phone, should, i, buy, under, 15k?]\n",
       "101177    [should, i, choose, mfc, delhi, or, make, anot...\n",
       "78010                         [do, we, really, need, love?]\n",
       "57348     [frequently, asked, interview, questions, on, ...\n",
       "Name: question1, dtype: object"
      ]
     },
     "execution_count": 26,
     "metadata": {},
     "output_type": "execute_result"
    }
   ],
   "source": [
    "X_train_subset_df_1['question1']"
   ]
  },
  {
   "cell_type": "code",
   "execution_count": 27,
   "metadata": {
    "collapsed": true
   },
   "outputs": [],
   "source": []
  },
  {
   "cell_type": "code",
   "execution_count": 28,
   "metadata": {
    "collapsed": true
   },
   "outputs": [],
   "source": [
    "X_all_1 = pd.DataFrame()\n",
    "test_df_1 = pd.DataFrame()"
   ]
  },
  {
   "cell_type": "code",
   "execution_count": 29,
   "metadata": {
    "collapsed": false
   },
   "outputs": [],
   "source": [
    "X_all_1['question1'] = X_all['question1'].apply(lambda x:preprocess_baseline_text(x))\n",
    "X_all_1['question2'] = X_all['question2'].apply(lambda x:preprocess_baseline_text(x))\n",
    "test_df_1['question1'] = test_df['question1'].apply(lambda x:preprocess_baseline_text(x))\n",
    "test_df_1['question2'] = test_df['question2'].apply(lambda x:preprocess_baseline_text(x))"
   ]
  },
  {
   "cell_type": "code",
   "execution_count": 30,
   "metadata": {
    "collapsed": false
   },
   "outputs": [
    {
     "data": {
      "text/html": [
       "<div>\n",
       "<style scoped>\n",
       "    .dataframe tbody tr th:only-of-type {\n",
       "        vertical-align: middle;\n",
       "    }\n",
       "\n",
       "    .dataframe tbody tr th {\n",
       "        vertical-align: top;\n",
       "    }\n",
       "\n",
       "    .dataframe thead th {\n",
       "        text-align: right;\n",
       "    }\n",
       "</style>\n",
       "<table border=\"1\" class=\"dataframe\">\n",
       "  <thead>\n",
       "    <tr style=\"text-align: right;\">\n",
       "      <th></th>\n",
       "      <th>question1</th>\n",
       "      <th>question2</th>\n",
       "    </tr>\n",
       "  </thead>\n",
       "  <tbody>\n",
       "    <tr>\n",
       "      <th>0</th>\n",
       "      <td>[what, is, the, step, by, step, guide, to, inv...</td>\n",
       "      <td>[what, is, the, step, by, step, guide, to, inv...</td>\n",
       "    </tr>\n",
       "    <tr>\n",
       "      <th>1</th>\n",
       "      <td>[what, is, the, story, of, kohinoor, (koh-i-no...</td>\n",
       "      <td>[what, would, happen, if, the, indian, governm...</td>\n",
       "    </tr>\n",
       "    <tr>\n",
       "      <th>2</th>\n",
       "      <td>[how, can, i, increase, the, speed, of, my, in...</td>\n",
       "      <td>[how, can, internet, speed, be, increased, by,...</td>\n",
       "    </tr>\n",
       "    <tr>\n",
       "      <th>3</th>\n",
       "      <td>[why, am, i, mentally, very, lonely?, how, can...</td>\n",
       "      <td>[find, the, remainder, when, [math]23^{24}[/ma...</td>\n",
       "    </tr>\n",
       "    <tr>\n",
       "      <th>4</th>\n",
       "      <td>[which, one, dissolve, in, water, quikly, suga...</td>\n",
       "      <td>[which, fish, would, survive, in, salt, water?]</td>\n",
       "    </tr>\n",
       "  </tbody>\n",
       "</table>\n",
       "</div>"
      ],
      "text/plain": [
       "                                           question1  \\\n",
       "0  [what, is, the, step, by, step, guide, to, inv...   \n",
       "1  [what, is, the, story, of, kohinoor, (koh-i-no...   \n",
       "2  [how, can, i, increase, the, speed, of, my, in...   \n",
       "3  [why, am, i, mentally, very, lonely?, how, can...   \n",
       "4  [which, one, dissolve, in, water, quikly, suga...   \n",
       "\n",
       "                                           question2  \n",
       "0  [what, is, the, step, by, step, guide, to, inv...  \n",
       "1  [what, would, happen, if, the, indian, governm...  \n",
       "2  [how, can, internet, speed, be, increased, by,...  \n",
       "3  [find, the, remainder, when, [math]23^{24}[/ma...  \n",
       "4    [which, fish, would, survive, in, salt, water?]  "
      ]
     },
     "execution_count": 30,
     "metadata": {},
     "output_type": "execute_result"
    }
   ],
   "source": [
    "X_all_1.head(5)"
   ]
  },
  {
   "cell_type": "code",
   "execution_count": 31,
   "metadata": {
    "collapsed": false
   },
   "outputs": [
    {
     "data": {
      "text/html": [
       "<div>\n",
       "<style scoped>\n",
       "    .dataframe tbody tr th:only-of-type {\n",
       "        vertical-align: middle;\n",
       "    }\n",
       "\n",
       "    .dataframe tbody tr th {\n",
       "        vertical-align: top;\n",
       "    }\n",
       "\n",
       "    .dataframe thead th {\n",
       "        text-align: right;\n",
       "    }\n",
       "</style>\n",
       "<table border=\"1\" class=\"dataframe\">\n",
       "  <thead>\n",
       "    <tr style=\"text-align: right;\">\n",
       "      <th></th>\n",
       "      <th>question1</th>\n",
       "      <th>question2</th>\n",
       "    </tr>\n",
       "  </thead>\n",
       "  <tbody>\n",
       "    <tr>\n",
       "      <th>0</th>\n",
       "      <td>[how, does, the, surface, pro, himself, 4, com...</td>\n",
       "      <td>[why, did, microsoft, choose, core, m3, and, n...</td>\n",
       "    </tr>\n",
       "    <tr>\n",
       "      <th>1</th>\n",
       "      <td>[should, i, have, a, hair, transplant, at, age...</td>\n",
       "      <td>[how, much, cost, does, hair, transplant, requ...</td>\n",
       "    </tr>\n",
       "    <tr>\n",
       "      <th>2</th>\n",
       "      <td>[what, but, is, the, best, way, to, send, mone...</td>\n",
       "      <td>[what, you, send, money, to, china?]</td>\n",
       "    </tr>\n",
       "    <tr>\n",
       "      <th>3</th>\n",
       "      <td>[which, food, not, emulsifiers?]</td>\n",
       "      <td>[what, foods, fibre?]</td>\n",
       "    </tr>\n",
       "    <tr>\n",
       "      <th>4</th>\n",
       "      <td>[how, \"aberystwyth\", start, reading?]</td>\n",
       "      <td>[how, their, can, i, start, reading?]</td>\n",
       "    </tr>\n",
       "  </tbody>\n",
       "</table>\n",
       "</div>"
      ],
      "text/plain": [
       "                                           question1  \\\n",
       "0  [how, does, the, surface, pro, himself, 4, com...   \n",
       "1  [should, i, have, a, hair, transplant, at, age...   \n",
       "2  [what, but, is, the, best, way, to, send, mone...   \n",
       "3                   [which, food, not, emulsifiers?]   \n",
       "4              [how, \"aberystwyth\", start, reading?]   \n",
       "\n",
       "                                           question2  \n",
       "0  [why, did, microsoft, choose, core, m3, and, n...  \n",
       "1  [how, much, cost, does, hair, transplant, requ...  \n",
       "2               [what, you, send, money, to, china?]  \n",
       "3                              [what, foods, fibre?]  \n",
       "4              [how, their, can, i, start, reading?]  "
      ]
     },
     "execution_count": 31,
     "metadata": {},
     "output_type": "execute_result"
    }
   ],
   "source": [
    "test_df_1.head(5)"
   ]
  },
  {
   "cell_type": "code",
   "execution_count": 32,
   "metadata": {
    "collapsed": false
   },
   "outputs": [
    {
     "name": "stdout",
     "output_type": "stream",
     "text": [
      "Lenght of words in X_all question 1 4423826\n",
      "Lenght of words after adding X_all question 2 8944593\n",
      "Lenght of words after adding test_df question 1 48146246\n",
      "Lenght of words after adding test_df question 2 87470531\n"
     ]
    }
   ],
   "source": [
    "words_list = create_vocabulary([],X_all_1,'question1')\n",
    "print (\"Lenght of words in X_all question 1 {}\".format(len(words_list)))\n",
    "words_list = create_vocabulary(words_list,X_all_1,'question2')\n",
    "print (\"Lenght of words after adding X_all question 2 {}\".format(len(words_list)))\n",
    "words_list = create_vocabulary(words_list,test_df_1,'question1')\n",
    "print (\"Lenght of words after adding test_df question 1 {}\".format(len(words_list)))\n",
    "words_list = create_vocabulary(words_list,test_df_1,'question2')\n",
    "print (\"Lenght of words after adding test_df question 2 {}\".format(len(words_list)))\n",
    "\n"
   ]
  },
  {
   "cell_type": "code",
   "execution_count": 33,
   "metadata": {
    "collapsed": false,
    "scrolled": true
   },
   "outputs": [
    {
     "name": "stdout",
     "output_type": "stream",
     "text": [
      "327522\n",
      "['what', 'is', 'the', 'step', 'by', 'step', 'guide', 'to', 'invest', 'in']\n",
      "6614\n",
      "3386\n"
     ]
    }
   ],
   "source": [
    "print (len(set(words_list)))\n",
    "print (words_list[0:10])\n",
    "words_freq = collections.Counter(words_list)\n",
    "words_freq.most_common(10)\n",
    "words_freq_10000 = words_freq.most_common(10000)\n",
    "\n",
    "\n",
    "word_in_word2vec = []\n",
    "word_notin_word2vec = []\n",
    "\n",
    "for word in words_freq.most_common(10000):\n",
    "    if word[0] in model.vocab:\n",
    "        word_in_word2vec.append(word[0])\n",
    "    else:\n",
    "        word_notin_word2vec.append(word[0])\n",
    "        \n",
    "print (len(word_in_word2vec))\n",
    "print (len(word_notin_word2vec))\n",
    "     \n",
    "        "
   ]
  },
  {
   "cell_type": "code",
   "execution_count": 34,
   "metadata": {
    "collapsed": false
   },
   "outputs": [
    {
     "name": "stdout",
     "output_type": "stream",
     "text": [
      "[('the', 3398855), ('what', 2980203), ('is', 2573361), ('how', 2090590), ('i', 2060339), ('a', 2028806), ('in', 1944305), ('to', 1898636), ('of', 1467452), ('do', 1374660), ('are', 1294421), ('and', 1223643), ('can', 1072247), ('for', 1012448), ('why', 707330), ('you', 699351), ('my', 666512), ('best', 632025), ('it', 581168), ('on', 547035), ('does', 521099), ('which', 466737), ('or', 461708), ('if', 408308), ('get', 386807), ('with', 384513), ('be', 375348), ('should', 372922), ('an', 362490), ('have', 361547), ('that', 357477), ('some', 351606), ('from', 325810), ('your', 272379), ('when', 258746), ('will', 250735), ('who', 247316), ('at', 246414), ('good', 233478), ('like', 223882), ('there', 214642), ('people', 212807), ('as', 210562), ('would', 208053), ('between', 196776), ('where', 190411), ('one', 181467), ('about', 178274), ('most', 171376), ('way', 167888), ('make', 167313), ('any', 165852), ('not', 161751), ('we', 159834), ('by', 155638), ('india?', 155451), ('after', 148930), ('did', 148650), ('was', 148272), ('am', 138205), ('difference', 136870), ('they', 134790), ('has', 126469), ('much', 126192), (\"what's\", 125564), ('so', 124523), ('learn', 121898), ('use', 120767), ('know', 116628), ('this', 116478), ('me', 115295), ('their', 115284), ('many', 112912), ('than', 110061), ('find', 107829), ('time', 107074), ('india', 106549), ('more', 102588), ('but', 102314), ('money', 102062), ('someone', 100078), ('all', 99907), ('without', 97196), ('indian', 96303), ('other', 95886), ('new', 95702), ('want', 95235), ('become', 91086), ('think', 90352), ('better', 85382), ('first', 84387), ('start', 84243), ('ever', 82374), ('into', 82279), ('quora', 79965), ('take', 77569), ('out', 76810), (\"don't\", 73582), ('feel', 72579), ('he', 72556)]\n"
     ]
    }
   ],
   "source": [
    "print (words_freq_10000[0:100])"
   ]
  },
  {
   "cell_type": "code",
   "execution_count": 35,
   "metadata": {
    "collapsed": false
   },
   "outputs": [
    {
     "name": "stdout",
     "output_type": "stream",
     "text": [
      "['a', 'to', 'of', 'and', 'india?', 'quora', 'quora?', 'why?', 'life?', 'it?', \"i'm\", 'do?', 'time?', 'me?', 'english?', '2016?', 'mean?', 'online?', 'work?', '?', '10', 'instagram', 'you?', '2016', 'world?', '500', 'them?', 'engineering?', '1000', 'weight?', 'money?', 'account?', 'like?', 'whatsapp', 'not?', 'exam?', 'for?', 'language?', 'possible?', 'this?', 'sentence?', 'people?', 'day?', 'phone?', '-', 'number?', 'us?', 'sydney?', 'skills?', 'now?', 'country?', 'sex?', 'so,', 'instagram?', 'system?', 'facebook?', 'in?', 'free?', 'university?', 'job?', 'business?', 'movies?', 'bangalore?', 'year?', 'from?', 'person?', 'love?', 'about?', '2017?', 'college?', 'company?', 'water?', 'u.s.', 'programming?', 'companies?', 'exist?', 'app?', 'china?', 'fat?', 'card?', 'website?', 'years?', 'youtube?', 'how?', 'delhi?', 'one?', 'have?', 'science?', '/', 'girl?', \"someone's\", 'usa?', '12', 'be?', 'school?', \"i've\", 'jio', 'interview?', 'snapchat', 'month?']\n"
     ]
    }
   ],
   "source": [
    "print (word_notin_word2vec[0:100])  "
   ]
  },
  {
   "cell_type": "code",
   "execution_count": 36,
   "metadata": {
    "collapsed": false
   },
   "outputs": [
    {
     "name": "stdout",
     "output_type": "stream",
     "text": [
      "['the', 'what', 'is', 'how', 'i', 'in', 'do', 'are', 'can', 'for', 'why', 'you', 'my', 'best', 'it', 'on', 'does', 'which', 'or', 'if', 'get', 'with', 'be', 'should', 'an', 'have', 'that', 'some', 'from', 'your', 'when', 'will', 'who', 'at', 'good', 'like', 'there', 'people', 'as', 'would', 'between', 'where', 'one', 'about', 'most', 'way', 'make', 'any', 'not', 'we', 'by', 'after', 'did', 'was', 'am', 'difference', 'they', 'has', 'much', \"what's\", 'so', 'learn', 'use', 'know', 'this', 'me', 'their', 'many', 'than', 'find', 'time', 'india', 'more', 'but', 'money', 'someone', 'all', 'without', 'indian', 'other', 'new', 'want', 'become', 'think', 'better', 'first', 'start', 'ever', 'into', 'take', 'out', \"don't\", 'feel', 'he', 'used', 'could', 'life', 'improve', 'possible', 'english']\n"
     ]
    }
   ],
   "source": [
    "print (word_in_word2vec[0:100])"
   ]
  },
  {
   "cell_type": "markdown",
   "metadata": {
    "collapsed": true
   },
   "source": [
    "# Further Preprocessing Text"
   ]
  },
  {
   "cell_type": "code",
   "execution_count": null,
   "metadata": {
    "collapsed": true
   },
   "outputs": [],
   "source": []
  },
  {
   "cell_type": "code",
   "execution_count": 69,
   "metadata": {
    "collapsed": true
   },
   "outputs": [],
   "source": [
    "def preprocess_text(text):\n",
    "    text = str(text)\n",
    "    text = text.lower()\n",
    "    \n",
    "    text = re.sub(r\"[^A-Za-z0-9^?,!.\\/'+-=]\", \" \", text)\n",
    "    text = re.sub(r\"\\.\", \" \", text)\n",
    "    text = re.sub(r\"\\'s\", \" \", text)\n",
    "    text = re.sub(r\"\\'ve\", \" have \", text)\n",
    "    text = re.sub(r\"i'm\", \"i am \", text)\n",
    "    text = re.sub(r\"\\?\", \" \", text)\n",
    "    text = re.sub(r\",\", \" \", text)\n",
    "    text = re.sub(r\"!\", \" ! \", text)\n",
    "    text = re.sub(r\"\\/\", \" \", text)\n",
    "    text = re.sub(r\"\\+\", \" + \", text)\n",
    "    text = re.sub(r\"\\-\", \" - \", text)\n",
    "    text = re.sub(r\"\\=\", \" = \", text)\n",
    "    \n",
    "    text = text.split()\n",
    "    \n",
    "    return text"
   ]
  },
  {
   "cell_type": "code",
   "execution_count": 70,
   "metadata": {
    "collapsed": true
   },
   "outputs": [],
   "source": [
    "X_train.reset_index(drop = True, inplace = True)\n",
    "X_valid.reset_index(drop = True, inplace = True)\n",
    "y_train.reset_index(drop = True, inplace = True)\n",
    "y_valid.reset_index(drop = True, inplace = True)\n",
    "\n",
    "X_train_df = pd.DataFrame()\n",
    "X_valid_df = pd.DataFrame()\n",
    "X_test_df = pd.DataFrame()"
   ]
  },
  {
   "cell_type": "code",
   "execution_count": 71,
   "metadata": {
    "collapsed": false
   },
   "outputs": [
    {
     "data": {
      "text/html": [
       "<div>\n",
       "<style scoped>\n",
       "    .dataframe tbody tr th:only-of-type {\n",
       "        vertical-align: middle;\n",
       "    }\n",
       "\n",
       "    .dataframe tbody tr th {\n",
       "        vertical-align: top;\n",
       "    }\n",
       "\n",
       "    .dataframe thead th {\n",
       "        text-align: right;\n",
       "    }\n",
       "</style>\n",
       "<table border=\"1\" class=\"dataframe\">\n",
       "  <thead>\n",
       "    <tr style=\"text-align: right;\">\n",
       "      <th></th>\n",
       "      <th>id</th>\n",
       "      <th>qid1</th>\n",
       "      <th>qid2</th>\n",
       "      <th>question1</th>\n",
       "      <th>question2</th>\n",
       "    </tr>\n",
       "  </thead>\n",
       "  <tbody>\n",
       "    <tr>\n",
       "      <th>0</th>\n",
       "      <td>20128</td>\n",
       "      <td>37998</td>\n",
       "      <td>37999</td>\n",
       "      <td>How is the working environment at SBI Life, Mu...</td>\n",
       "      <td>How stressful is work of SBI clerk?</td>\n",
       "    </tr>\n",
       "    <tr>\n",
       "      <th>1</th>\n",
       "      <td>296237</td>\n",
       "      <td>418414</td>\n",
       "      <td>31812</td>\n",
       "      <td>How can a US citizen work in Canada?</td>\n",
       "      <td>Will a US graduate degree help a non-US citize...</td>\n",
       "    </tr>\n",
       "    <tr>\n",
       "      <th>2</th>\n",
       "      <td>107095</td>\n",
       "      <td>176273</td>\n",
       "      <td>176274</td>\n",
       "      <td>What are the benefits of washing your hands wi...</td>\n",
       "      <td>Why is it important to wash your hands with soap?</td>\n",
       "    </tr>\n",
       "  </tbody>\n",
       "</table>\n",
       "</div>"
      ],
      "text/plain": [
       "       id    qid1    qid2                                          question1  \\\n",
       "0   20128   37998   37999  How is the working environment at SBI Life, Mu...   \n",
       "1  296237  418414   31812               How can a US citizen work in Canada?   \n",
       "2  107095  176273  176274  What are the benefits of washing your hands wi...   \n",
       "\n",
       "                                           question2  \n",
       "0                How stressful is work of SBI clerk?  \n",
       "1  Will a US graduate degree help a non-US citize...  \n",
       "2  Why is it important to wash your hands with soap?  "
      ]
     },
     "execution_count": 71,
     "metadata": {},
     "output_type": "execute_result"
    }
   ],
   "source": [
    "X_train.head(3)"
   ]
  },
  {
   "cell_type": "code",
   "execution_count": 72,
   "metadata": {
    "collapsed": false
   },
   "outputs": [
    {
     "data": {
      "text/html": [
       "<div>\n",
       "<style scoped>\n",
       "    .dataframe tbody tr th:only-of-type {\n",
       "        vertical-align: middle;\n",
       "    }\n",
       "\n",
       "    .dataframe tbody tr th {\n",
       "        vertical-align: top;\n",
       "    }\n",
       "\n",
       "    .dataframe thead th {\n",
       "        text-align: right;\n",
       "    }\n",
       "</style>\n",
       "<table border=\"1\" class=\"dataframe\">\n",
       "  <thead>\n",
       "    <tr style=\"text-align: right;\">\n",
       "      <th></th>\n",
       "      <th>test_id</th>\n",
       "      <th>question1</th>\n",
       "      <th>question2</th>\n",
       "    </tr>\n",
       "  </thead>\n",
       "  <tbody>\n",
       "    <tr>\n",
       "      <th>0</th>\n",
       "      <td>0</td>\n",
       "      <td>How does the Surface Pro himself 4 compare wit...</td>\n",
       "      <td>Why did Microsoft choose core m3 and not core ...</td>\n",
       "    </tr>\n",
       "    <tr>\n",
       "      <th>1</th>\n",
       "      <td>1</td>\n",
       "      <td>Should I have a hair transplant at age 24? How...</td>\n",
       "      <td>How much cost does hair transplant require?</td>\n",
       "    </tr>\n",
       "    <tr>\n",
       "      <th>2</th>\n",
       "      <td>2</td>\n",
       "      <td>What but is the best way to send money from Ch...</td>\n",
       "      <td>What you send money to China?</td>\n",
       "    </tr>\n",
       "  </tbody>\n",
       "</table>\n",
       "</div>"
      ],
      "text/plain": [
       "  test_id                                          question1  \\\n",
       "0       0  How does the Surface Pro himself 4 compare wit...   \n",
       "1       1  Should I have a hair transplant at age 24? How...   \n",
       "2       2  What but is the best way to send money from Ch...   \n",
       "\n",
       "                                           question2  \n",
       "0  Why did Microsoft choose core m3 and not core ...  \n",
       "1        How much cost does hair transplant require?  \n",
       "2                      What you send money to China?  "
      ]
     },
     "execution_count": 72,
     "metadata": {},
     "output_type": "execute_result"
    }
   ],
   "source": [
    "test_df.head(3)"
   ]
  },
  {
   "cell_type": "code",
   "execution_count": 73,
   "metadata": {
    "collapsed": false
   },
   "outputs": [
    {
     "data": {
      "text/plain": [
       "['what', 'is', '=', 'the', 'step', 'by', 'step', 'guide', 'to', 'invest', 'in']"
      ]
     },
     "execution_count": 73,
     "metadata": {},
     "output_type": "execute_result"
    }
   ],
   "source": [
    "preprocess_text('What is= the step by step guide to invest in?')"
   ]
  },
  {
   "cell_type": "code",
   "execution_count": 74,
   "metadata": {
    "collapsed": true
   },
   "outputs": [],
   "source": [
    "X_train_df['question1'] = X_train['question1'].apply(lambda x:preprocess_text(x))\n",
    "X_train_df['question2'] = X_train['question2'].apply(lambda x:preprocess_text(x))\n",
    "X_valid_df['question1'] = X_valid['question1'].apply(lambda x:preprocess_text(x))\n",
    "X_valid_df['question2'] = X_valid['question2'].apply(lambda x:preprocess_text(x))\n",
    "X_test_df['question1'] = test_df['question1'].apply(lambda x:preprocess_text(x))\n",
    "X_test_df['question2'] = test_df['question2'].apply(lambda x:preprocess_text(x))"
   ]
  },
  {
   "cell_type": "code",
   "execution_count": 75,
   "metadata": {
    "collapsed": false
   },
   "outputs": [
    {
     "data": {
      "text/html": [
       "<div>\n",
       "<style scoped>\n",
       "    .dataframe tbody tr th:only-of-type {\n",
       "        vertical-align: middle;\n",
       "    }\n",
       "\n",
       "    .dataframe tbody tr th {\n",
       "        vertical-align: top;\n",
       "    }\n",
       "\n",
       "    .dataframe thead th {\n",
       "        text-align: right;\n",
       "    }\n",
       "</style>\n",
       "<table border=\"1\" class=\"dataframe\">\n",
       "  <thead>\n",
       "    <tr style=\"text-align: right;\">\n",
       "      <th></th>\n",
       "      <th>question1</th>\n",
       "      <th>question2</th>\n",
       "    </tr>\n",
       "  </thead>\n",
       "  <tbody>\n",
       "    <tr>\n",
       "      <th>0</th>\n",
       "      <td>[how, is, the, working, environment, at, sbi, ...</td>\n",
       "      <td>[how, stressful, is, work, of, sbi, clerk]</td>\n",
       "    </tr>\n",
       "    <tr>\n",
       "      <th>1</th>\n",
       "      <td>[how, can, a, us, citizen, work, in, canada]</td>\n",
       "      <td>[will, a, us, graduate, degree, help, a, non, ...</td>\n",
       "    </tr>\n",
       "    <tr>\n",
       "      <th>2</th>\n",
       "      <td>[what, are, the, benefits, of, washing, your, ...</td>\n",
       "      <td>[why, is, it, important, to, wash, your, hands...</td>\n",
       "    </tr>\n",
       "  </tbody>\n",
       "</table>\n",
       "</div>"
      ],
      "text/plain": [
       "                                           question1  \\\n",
       "0  [how, is, the, working, environment, at, sbi, ...   \n",
       "1       [how, can, a, us, citizen, work, in, canada]   \n",
       "2  [what, are, the, benefits, of, washing, your, ...   \n",
       "\n",
       "                                           question2  \n",
       "0         [how, stressful, is, work, of, sbi, clerk]  \n",
       "1  [will, a, us, graduate, degree, help, a, non, ...  \n",
       "2  [why, is, it, important, to, wash, your, hands...  "
      ]
     },
     "execution_count": 75,
     "metadata": {},
     "output_type": "execute_result"
    }
   ],
   "source": [
    "X_train_df.head(3)"
   ]
  },
  {
   "cell_type": "code",
   "execution_count": 76,
   "metadata": {
    "collapsed": false
   },
   "outputs": [
    {
     "name": "stdout",
     "output_type": "stream",
     "text": [
      "Lenght of words in X_train_df question 1 3143028\n",
      "Lenght of words after adding X_train_df question 2 6358368\n",
      "Lenght of words after adding X_valid_df question 1 7705257\n",
      "Lenght of words after adding X_valid_df question 2 9080346\n",
      "Lenght of words after adding X_test_df question 1 48938305\n",
      "Lenght of words after adding X_test_df question 2 88928769\n"
     ]
    }
   ],
   "source": [
    "words_list = create_vocabulary([],X_train_df,'question1')\n",
    "print (\"Lenght of words in X_train_df question 1 {}\".format(len(words_list)))\n",
    "words_list = create_vocabulary(words_list,X_train_df,'question2')\n",
    "print (\"Lenght of words after adding X_train_df question 2 {}\".format(len(words_list)))\n",
    "words_list = create_vocabulary(words_list,X_valid_df,'question1')\n",
    "print (\"Lenght of words after adding X_valid_df question 1 {}\".format(len(words_list)))\n",
    "words_list = create_vocabulary(words_list,X_valid_df,'question2')\n",
    "print (\"Lenght of words after adding X_valid_df question 2 {}\".format(len(words_list)))\n",
    "words_list = create_vocabulary(words_list,X_test_df,'question1')\n",
    "print (\"Lenght of words after adding X_test_df question 1 {}\".format(len(words_list)))\n",
    "words_list = create_vocabulary(words_list,X_test_df,'question2')\n",
    "print (\"Lenght of words after adding X_test_df question 2 {}\".format(len(words_list)))"
   ]
  },
  {
   "cell_type": "code",
   "execution_count": 77,
   "metadata": {
    "collapsed": false
   },
   "outputs": [
    {
     "name": "stdout",
     "output_type": "stream",
     "text": [
      "131743\n",
      "['how', 'is', 'the', 'working', 'environment', 'at', 'sbi', 'life', 'mumbai', 'how']\n",
      "9206\n",
      "794\n"
     ]
    }
   ],
   "source": [
    "print (len(set(words_list)))\n",
    "print (words_list[0:10])\n",
    "words_freq = collections.Counter(words_list)\n",
    "words_freq.most_common(10)\n",
    "words_freq_10000 = words_freq.most_common(10000)\n",
    "\n",
    "\n",
    "word_in_word2vec = []\n",
    "word_notin_word2vec = []\n",
    "\n",
    "for word in words_freq.most_common(10000):\n",
    "    if word[0] in model.vocab:\n",
    "        word_in_word2vec.append(word[0])\n",
    "    else:\n",
    "        word_notin_word2vec.append(word[0])\n",
    "        \n",
    "print (len(word_in_word2vec))\n",
    "print (len(word_notin_word2vec))"
   ]
  },
  {
   "cell_type": "code",
   "execution_count": 79,
   "metadata": {
    "collapsed": false
   },
   "outputs": [
    {
     "name": "stdout",
     "output_type": "stream",
     "text": [
      "['a', 'to', 'of', 'and', '-', 'quora', '2016', '10', 'instagram', '500', '1000', 'whatsapp', '2017', '2015', 'snapchat', '20', ':', '12', '100', '000', '15', '30', '50', 'jio', '12th', 'sbi', '16', '11', 'brexit', '!', '18', 'upsc', 'ece', '13', 'tcs', 'narendra', 'better:', '2014', '25', '17', '14', '70', 'mbbs', 'manipal', '2000', 'gmat', '40', 'iim', '24', 'btech', 'cgpa', '200', 'iiit', 'cgl', '10th', 'obc', 'redmi', 'favourite', '90', '60', 'iits', '21', 'pilani', 'aiims', 'centre', 'mightn', '80', 'flipkart', 'mustn', 'xiaomi', '19', 'travelling', 'ielts', '22', '300', 'india:', 'bba', 'colour', 'ibps', '23', 'ps4', '2013', 'mtech', 'accenture', 'x^2', 'paytm', '25000', 'elon', 'hadoop', 'kohli', 'srm', 'kejriwal', 'bitsat', 'spotify', '11th', 'grey', \"'\", '32', 'ncr', 'virat']\n"
     ]
    }
   ],
   "source": [
    "print (word_notin_word2vec[0:100]) "
   ]
  },
  {
   "cell_type": "markdown",
   "metadata": {
    "collapsed": true
   },
   "source": [
    "# Keras Implementation"
   ]
  },
  {
   "cell_type": "code",
   "execution_count": 80,
   "metadata": {
    "collapsed": true
   },
   "outputs": [],
   "source": [
    "words_to_index = {}\n",
    "index_to_words = {}\n",
    "\n",
    "i = 0\n",
    "for word in set(words_list):\n",
    "    words_to_index[word] = i\n",
    "    i = i + 1\n",
    "    \n",
    "j=0\n",
    "for word in set(words_list):\n",
    "    index_to_words[j] = word\n",
    "    j=j+1"
   ]
  },
  {
   "cell_type": "code",
   "execution_count": 95,
   "metadata": {
    "collapsed": false
   },
   "outputs": [
    {
     "name": "stdout",
     "output_type": "stream",
     "text": [
      "104295\n",
      "131743\n",
      "the\n",
      "offical\n"
     ]
    }
   ],
   "source": [
    "print (words_to_index['the'])\n",
    "print (len(words_to_index))\n",
    "print (index_to_words[104295])\n",
    "print (index_to_words[0])"
   ]
  },
  {
   "cell_type": "code",
   "execution_count": 86,
   "metadata": {
    "collapsed": false
   },
   "outputs": [
    {
     "data": {
      "text/plain": [
       "[19780, 69984, 104295, 12947, 38557, 71100]"
      ]
     },
     "execution_count": 86,
     "metadata": {},
     "output_type": "execute_result"
    }
   ],
   "source": [
    "def word_2_integer(wordslist):\n",
    "    question2integer = []\n",
    "    for word in wordslist:\n",
    "        question2integer.append(words_to_index[word])\n",
    "\n",
    "    return question2integer\n",
    "\n",
    "word_2_integer(['what', 'is', 'the', 'story', 'of', 'kohinoor'])"
   ]
  },
  {
   "cell_type": "code",
   "execution_count": 88,
   "metadata": {
    "collapsed": false
   },
   "outputs": [],
   "source": [
    "X_train_df['question1'] = X_train_df['question1'].apply(lambda x:word_2_integer(x))\n"
   ]
  },
  {
   "cell_type": "code",
   "execution_count": 89,
   "metadata": {
    "collapsed": true
   },
   "outputs": [],
   "source": [
    "X_train_df['question2'] = X_train_df['question2'].apply(lambda x:word_2_integer(x))\n",
    "X_valid_df['question1'] = X_valid_df['question1'].apply(lambda x:word_2_integer(x))\n",
    "X_valid_df['question2'] = X_valid_df['question2'].apply(lambda x:word_2_integer(x))\n",
    "X_test_df['question1'] = X_test_df['question1'].apply(lambda x:word_2_integer(x))\n",
    "X_test_df['question2'] = X_test_df['question2'].apply(lambda x:word_2_integer(x))"
   ]
  },
  {
   "cell_type": "code",
   "execution_count": 90,
   "metadata": {
    "collapsed": false
   },
   "outputs": [
    {
     "data": {
      "text/plain": [
       "0    [31586, 69984, 104295, 57112, 55384, 21628, 63...\n",
       "1    [31586, 126908, 23532, 84451, 69988, 115658, 9...\n",
       "2    [19780, 50711, 104295, 116401, 38557, 117493, ...\n",
       "3    [31586, 19743, 104295, 49658, 18288, 38557, 22...\n",
       "4    [69984, 104295, 1542, 29811, 72084, 47147, 416...\n",
       "Name: question1, dtype: object"
      ]
     },
     "execution_count": 90,
     "metadata": {},
     "output_type": "execute_result"
    }
   ],
   "source": [
    "X_train_df['question1'].head(5)"
   ]
  },
  {
   "cell_type": "code",
   "execution_count": 93,
   "metadata": {
    "collapsed": false
   },
   "outputs": [],
   "source": [
    "import numpy as np\n",
    "embed_length = 300\n",
    "embed_matrix = np.random.randn(len(words_to_index)+1,embed_length)\n",
    "# To ignore padding\n",
    "embeddings[0] = 0\n",
    "\n"
   ]
  },
  {
   "cell_type": "code",
   "execution_count": 94,
   "metadata": {
    "collapsed": false
   },
   "outputs": [
    {
     "name": "stdout",
     "output_type": "stream",
     "text": [
      "(131744, 300)\n"
     ]
    }
   ],
   "source": [
    "print (embed_matrix.shape)"
   ]
  },
  {
   "cell_type": "code",
   "execution_count": null,
   "metadata": {
    "collapsed": true
   },
   "outputs": [],
   "source": []
  },
  {
   "cell_type": "code",
   "execution_count": null,
   "metadata": {
    "collapsed": false
   },
   "outputs": [],
   "source": [
    "y_train.shape"
   ]
  },
  {
   "cell_type": "code",
   "execution_count": null,
   "metadata": {
    "collapsed": true
   },
   "outputs": [],
   "source": []
  },
  {
   "cell_type": "code",
   "execution_count": null,
   "metadata": {
    "collapsed": false
   },
   "outputs": [],
   "source": [
    "preprocess_baseline_text(X_train['question1'][0])"
   ]
  },
  {
   "cell_type": "code",
   "execution_count": null,
   "metadata": {
    "collapsed": false
   },
   "outputs": [],
   "source": []
  },
  {
   "cell_type": "code",
   "execution_count": null,
   "metadata": {
    "collapsed": false
   },
   "outputs": [],
   "source": []
  },
  {
   "cell_type": "code",
   "execution_count": null,
   "metadata": {
    "collapsed": false
   },
   "outputs": [],
   "source": [
    "X_test_df.head(5)"
   ]
  },
  {
   "cell_type": "code",
   "execution_count": null,
   "metadata": {
    "collapsed": false
   },
   "outputs": [],
   "source": [
    "X_train_df.head(5)"
   ]
  },
  {
   "cell_type": "code",
   "execution_count": null,
   "metadata": {
    "collapsed": false
   },
   "outputs": [],
   "source": [
    "# re.sub(r\"[^A-Za-z0-9,!.\\/'+-=]\", \" \", 'why am i mentally very lonely? how can i solve')"
   ]
  },
  {
   "cell_type": "code",
   "execution_count": null,
   "metadata": {
    "collapsed": false
   },
   "outputs": [],
   "source": [
    "# re.sub(r\"\\'s\", \" \", 'what\\'s')"
   ]
  },
  {
   "cell_type": "code",
   "execution_count": null,
   "metadata": {
    "collapsed": false
   },
   "outputs": [],
   "source": [
    "# words_list = []\n",
    "# # train_subset_df = train_df['question1'][0:10]\n",
    "# train_subset_df['question1'] = pd.DataFrame(data=train_df['question1'][0:10], columns=['question1'])\n",
    "# train_subset_df['question2'] = pd.DataFrame(data=train_df['question2'][0:10], columns=['question2'])"
   ]
  },
  {
   "cell_type": "code",
   "execution_count": null,
   "metadata": {
    "collapsed": false
   },
   "outputs": [],
   "source": [
    "# for sentence in train_subset_df['question1']:\n",
    "#     for word in sentence:\n",
    "#         words_list.append(word)\n",
    "# print (len(set(words_list)))"
   ]
  },
  {
   "cell_type": "code",
   "execution_count": null,
   "metadata": {
    "collapsed": true
   },
   "outputs": [],
   "source": []
  },
  {
   "cell_type": "markdown",
   "metadata": {},
   "source": [
    "## Feature based on how many words are common in question 1 and question 2"
   ]
  },
  {
   "cell_type": "code",
   "execution_count": null,
   "metadata": {
    "collapsed": false
   },
   "outputs": [],
   "source": [
    "# u.termfrequency(['What is the step by step guide to invest in share market in india?'], ['What is the step by step guide to invest in share market?'])"
   ]
  },
  {
   "cell_type": "code",
   "execution_count": null,
   "metadata": {
    "collapsed": false
   },
   "outputs": [],
   "source": [
    "def termfrequency(sentence1, sentence2):\n",
    "   \n",
    "    question_dict ={}\n",
    "    sentence1_words = sentence1   \n",
    "    sentence2_words = sentence2\n",
    "    searchtermfreq = []\n",
    "    i = 0\n",
    "    \n",
    "    for key in sentence1_words:\n",
    "#         print (key)\n",
    "        question_dict[key] = question_dict.get(key,0) + 1\n",
    "    \n",
    "    for key in set(sentence2_words):\n",
    "        value =  question_dict.get(key,0)\n",
    "        if value >= 1:\n",
    "            value = 1\n",
    "        searchtermfreq.append(value)\n",
    "        \n",
    "    \n",
    "#     print (question_dict)\n",
    "#     print (searchtermfreq)\n",
    "#     print (sum(searchtermfreq))\n",
    "    return sum(searchtermfreq)\n",
    "\n",
    "termfrequency(['what', 'is', 'the', 'step', 'by', 'step', 'guide', 'to', 'invest', 'in', 'share', 'market', 'in', 'india?'], ['what', 'is', 'the', 'step', 'by', 'step', 'guide', 'to', 'invest', 'in', 'share', 'market?'])\n",
    "    "
   ]
  },
  {
   "cell_type": "code",
   "execution_count": null,
   "metadata": {
    "collapsed": false
   },
   "outputs": [],
   "source": [
    "X_train_df['common_term_freq'] = X_train_df.apply(lambda x: termfrequency(x['question1'],x['question2']), axis=1 )"
   ]
  },
  {
   "cell_type": "code",
   "execution_count": null,
   "metadata": {
    "collapsed": false
   },
   "outputs": [],
   "source": [
    "X_train_df.head(10)"
   ]
  },
  {
   "cell_type": "code",
   "execution_count": null,
   "metadata": {
    "collapsed": true
   },
   "outputs": [],
   "source": [
    "X_valid_df['common_term_freq'] = X_valid_df.apply(lambda x: termfrequency(x['question1'],x['question2']), axis=1 )"
   ]
  },
  {
   "cell_type": "code",
   "execution_count": null,
   "metadata": {
    "collapsed": false
   },
   "outputs": [],
   "source": [
    "X_valid_df.head(10)"
   ]
  },
  {
   "cell_type": "markdown",
   "metadata": {},
   "source": [
    "# Total words frequency"
   ]
  },
  {
   "cell_type": "code",
   "execution_count": null,
   "metadata": {
    "collapsed": true
   },
   "outputs": [],
   "source": [
    "def total_words_freq(sentence):\n",
    "    return len(sentence)"
   ]
  },
  {
   "cell_type": "code",
   "execution_count": null,
   "metadata": {
    "collapsed": false
   },
   "outputs": [],
   "source": [
    "total_words_freq(['what', 'is', 'the', 'step', 'by', 'step', 'guide', 'to', 'invest', 'in', 'share', 'market', 'in', 'india?'])"
   ]
  },
  {
   "cell_type": "code",
   "execution_count": null,
   "metadata": {
    "collapsed": true
   },
   "outputs": [],
   "source": [
    "X_train_df['question1_words_freq'] = X_train_df['question1'].map(lambda x: total_words_freq(x))"
   ]
  },
  {
   "cell_type": "code",
   "execution_count": null,
   "metadata": {
    "collapsed": true
   },
   "outputs": [],
   "source": [
    "X_train_df['question2_words_freq'] = X_train_df['question2'].map(lambda x: total_words_freq(x))"
   ]
  },
  {
   "cell_type": "code",
   "execution_count": null,
   "metadata": {
    "collapsed": false
   },
   "outputs": [],
   "source": [
    "X_train_df.head(5)"
   ]
  },
  {
   "cell_type": "code",
   "execution_count": null,
   "metadata": {
    "collapsed": true
   },
   "outputs": [],
   "source": []
  },
  {
   "cell_type": "code",
   "execution_count": null,
   "metadata": {
    "collapsed": true
   },
   "outputs": [],
   "source": [
    "X_valid_df['question1_words_freq'] = X_valid_df['question1'].map(lambda x: total_words_freq(x))"
   ]
  },
  {
   "cell_type": "code",
   "execution_count": null,
   "metadata": {
    "collapsed": true
   },
   "outputs": [],
   "source": [
    "X_valid_df['question2_words_freq'] = X_valid_df['question2'].map(lambda x: total_words_freq(x))"
   ]
  },
  {
   "cell_type": "code",
   "execution_count": null,
   "metadata": {
    "collapsed": false
   },
   "outputs": [],
   "source": [
    "X_valid_df.head(5)"
   ]
  },
  {
   "cell_type": "code",
   "execution_count": null,
   "metadata": {
    "collapsed": false
   },
   "outputs": [],
   "source": [
    "X_train_model_input = X_train_df.drop(['question1','question2'],axis =1)"
   ]
  },
  {
   "cell_type": "code",
   "execution_count": null,
   "metadata": {
    "collapsed": true
   },
   "outputs": [],
   "source": [
    "X_valid_model_input = X_valid_df.drop(['question1','question2'],axis =1)"
   ]
  },
  {
   "cell_type": "code",
   "execution_count": null,
   "metadata": {
    "collapsed": false
   },
   "outputs": [],
   "source": [
    "X_train_model_input.head(3)"
   ]
  },
  {
   "cell_type": "markdown",
   "metadata": {},
   "source": [
    "# Baseline Model"
   ]
  },
  {
   "cell_type": "code",
   "execution_count": null,
   "metadata": {
    "collapsed": false
   },
   "outputs": [],
   "source": [
    "\n",
    "# Train a model# Train  \n",
    "import time\n",
    "\n",
    "def train_classifier(clf, X_train, y_train):\n",
    "    print (\"Training {}...\".format(clf.__class__.__name__))\n",
    "    start = time.time()\n",
    "    clf.fit(X_train, y_train)\n",
    "    end = time.time()\n",
    "    print (\"Done!\\nTraining time (secs): {:.3f}\".format(end - start))"
   ]
  },
  {
   "cell_type": "code",
   "execution_count": null,
   "metadata": {
    "collapsed": false
   },
   "outputs": [],
   "source": [
    "from sklearn.linear_model import LogisticRegression\n",
    "\n",
    "clf =  LogisticRegression()"
   ]
  },
  {
   "cell_type": "code",
   "execution_count": null,
   "metadata": {
    "collapsed": false
   },
   "outputs": [],
   "source": [
    "train_classifier(clf, X_train_model_input, y_train.values.ravel())"
   ]
  },
  {
   "cell_type": "code",
   "execution_count": null,
   "metadata": {
    "collapsed": false
   },
   "outputs": [],
   "source": [
    "from sklearn.metrics import log_loss\n",
    "from sklearn.metrics import confusion_matrix\n",
    "\n",
    "def predict_labels(clf, X_train, y_train):\n",
    "    print (\"Predicting labels using {}...\".format(clf.__class__.__name__))\n",
    "    start = time.time()\n",
    "    y_pred = clf.predict(X_train)\n",
    "    end = time.time()\n",
    "    print (\"Done!\\nPrediction time (secs): {:.3f}\".format(end - start))\n",
    "    return log_loss(y_train, y_pred, eps=1e-15), confusion_matrix(y_train, y_pred)\n",
    "\n",
    "train_metrics = predict_labels(clf, X_train_model_input, y_train.values.ravel())\n",
    "\n",
    "print \n",
    "print (\"Log loss for training set: {}\".format(train_metrics[0]))\n",
    "\n",
    "print (\"Confusion matrix for training set: {}\".format(train_metrics[1]))"
   ]
  },
  {
   "cell_type": "code",
   "execution_count": null,
   "metadata": {
    "collapsed": false
   },
   "outputs": [],
   "source": [
    "# Predict on test data\n",
    "print (\"Log loss for validation set: {}\".format(predict_labels(clf, X_valid_model_input, y_valid.values.ravel())[0]))"
   ]
  },
  {
   "cell_type": "code",
   "execution_count": null,
   "metadata": {
    "collapsed": false
   },
   "outputs": [],
   "source": [
    "\n",
    "print (\"Confusion matrix for validation set: {}\".format(predict_labels(clf, X_valid_model_input, y_valid.values.ravel())[1]))"
   ]
  },
  {
   "cell_type": "markdown",
   "metadata": {},
   "source": [
    "# Text Preprocessing"
   ]
  },
  {
   "cell_type": "code",
   "execution_count": null,
   "metadata": {
    "collapsed": false
   },
   "outputs": [],
   "source": [
    "result = model.most_similar(positive=['woman', 'king'], negative=['man'], topn=1)\n",
    "print(result)"
   ]
  },
  {
   "cell_type": "code",
   "execution_count": null,
   "metadata": {
    "collapsed": true
   },
   "outputs": [],
   "source": []
  },
  {
   "cell_type": "code",
   "execution_count": null,
   "metadata": {
    "collapsed": true
   },
   "outputs": [],
   "source": []
  },
  {
   "cell_type": "code",
   "execution_count": null,
   "metadata": {
    "collapsed": false
   },
   "outputs": [],
   "source": [
    "words_list = create_vocabulary([],X_train_df,'question1')\n",
    "print (\"Lenght of words in X_train_df question 1 {}\".format(len(words_list)))\n",
    "words_list = create_vocabulary(words_list,X_train_df,'question2')\n",
    "print (\"Lenght of words after adding X_train_df question 2 {}\".format(len(words_list)))\n",
    "words_list = create_vocabulary(words_list,X_valid_df,'question1')\n",
    "print (\"Lenght of words after adding X_valid_df question 1 {}\".format(len(words_list)))\n",
    "words_list = create_vocabulary(words_list,X_valid_df,'question2')\n",
    "print (\"Lenght of words after adding X_valid_df question 2 {}\".format(len(words_list)))\n",
    "words_list = create_vocabulary(words_list,X_test_df,'question1')\n",
    "print (\"Lenght of words after adding X_test_df question 1 {}\".format(len(words_list)))\n",
    "words_list = create_vocabulary(words_list,X_test_df,'question2')\n",
    "print (\"Lenght of words after adding X_test_df question 2 {}\".format(len(words_list)))\n",
    "\n"
   ]
  },
  {
   "cell_type": "code",
   "execution_count": null,
   "metadata": {
    "collapsed": false
   },
   "outputs": [],
   "source": []
  },
  {
   "cell_type": "code",
   "execution_count": null,
   "metadata": {
    "collapsed": false
   },
   "outputs": [],
   "source": []
  },
  {
   "cell_type": "code",
   "execution_count": null,
   "metadata": {
    "collapsed": true
   },
   "outputs": [],
   "source": []
  },
  {
   "cell_type": "code",
   "execution_count": null,
   "metadata": {
    "collapsed": true
   },
   "outputs": [],
   "source": []
  },
  {
   "cell_type": "code",
   "execution_count": null,
   "metadata": {
    "collapsed": false
   },
   "outputs": [],
   "source": []
  },
  {
   "cell_type": "code",
   "execution_count": null,
   "metadata": {
    "collapsed": true
   },
   "outputs": [],
   "source": []
  },
  {
   "cell_type": "code",
   "execution_count": null,
   "metadata": {
    "collapsed": false
   },
   "outputs": [],
   "source": []
  },
  {
   "cell_type": "code",
   "execution_count": null,
   "metadata": {
    "collapsed": false
   },
   "outputs": [],
   "source": []
  },
  {
   "cell_type": "code",
   "execution_count": null,
   "metadata": {
    "collapsed": false
   },
   "outputs": [],
   "source": []
  },
  {
   "cell_type": "code",
   "execution_count": null,
   "metadata": {
    "collapsed": false
   },
   "outputs": [],
   "source": []
  },
  {
   "cell_type": "code",
   "execution_count": null,
   "metadata": {
    "collapsed": false
   },
   "outputs": [],
   "source": []
  },
  {
   "cell_type": "code",
   "execution_count": null,
   "metadata": {
    "collapsed": false
   },
   "outputs": [],
   "source": [
    "\n",
    "def preprocess_text(list_words):\n",
    "     list_words_processed = []\n",
    "     for text in list_words:\n",
    "         text = re.sub(r\"\\?\", '', text)\n",
    "         text = re.sub(r\"i'm\", \"i am \", text)\n",
    "#          print (text)\n",
    "         list_words_processed.append(str(text))\n",
    "#          print (list_words_processed)\n",
    "     return list_words_processed"
   ]
  },
  {
   "cell_type": "code",
   "execution_count": null,
   "metadata": {
    "collapsed": false
   },
   "outputs": [],
   "source": [
    "preprocess_text(['India?'])"
   ]
  },
  {
   "cell_type": "code",
   "execution_count": null,
   "metadata": {
    "collapsed": false
   },
   "outputs": [],
   "source": [
    "preprocess_text(['how',\n",
    " 'do',\n",
    " 'the',\n",
    " 'holy',\n",
    " 'scriptures',\n",
    " 'of',\n",
    " 'hinduism',\n",
    " 'compare',\n",
    " 'and',\n",
    " 'contrast',\n",
    " 'to',\n",
    " 'those',\n",
    " 'of',\n",
    " 'taoism?'])"
   ]
  },
  {
   "cell_type": "code",
   "execution_count": null,
   "metadata": {
    "collapsed": false
   },
   "outputs": [],
   "source": [
    "X_train_df['question1'][3]"
   ]
  },
  {
   "cell_type": "code",
   "execution_count": null,
   "metadata": {
    "collapsed": false
   },
   "outputs": [],
   "source": [
    "preprocess_text(X_train_df['question1'][3])"
   ]
  },
  {
   "cell_type": "code",
   "execution_count": null,
   "metadata": {
    "collapsed": false
   },
   "outputs": [],
   "source": [
    "X_train_p_df = pd.DataFrame()\n",
    "X_valid_p_df = pd.DataFrame()\n",
    "X_test_p_df = pd.DataFrame()"
   ]
  },
  {
   "cell_type": "code",
   "execution_count": null,
   "metadata": {
    "collapsed": false
   },
   "outputs": [],
   "source": [
    "X_train_p_df['question1'] = X_train_df['question1'].apply(lambda x:preprocess_text(x))\n",
    "X_train_p_df['question2'] = X_train_df['question2'].apply(lambda x:preprocess_text(x))\n",
    "X_valid_p_df['question1'] = X_valid_df['question1'].apply(lambda x:preprocess_text(x))\n",
    "X_valid_p_df['question2'] = X_valid_df['question2'].apply(lambda x:preprocess_text(x))\n",
    "X_test_p_df['question1'] = X_test_df['question1'].apply(lambda x:preprocess_text(x))\n",
    "X_test_p_df['question2'] = X_test_df['question2'].apply(lambda x:preprocess_text(x))"
   ]
  },
  {
   "cell_type": "code",
   "execution_count": null,
   "metadata": {
    "collapsed": false
   },
   "outputs": [],
   "source": [
    "X_train_p_df['question1'][2]"
   ]
  },
  {
   "cell_type": "code",
   "execution_count": null,
   "metadata": {
    "collapsed": false
   },
   "outputs": [],
   "source": [
    "proc_words_list = create_vocabulary([],X_train_p_df,'question1')\n",
    "print (\"Lenght of words in X_train_df question 1 {}\".format(len(words_list)))\n",
    "proc_words_list = create_vocabulary(words_list,X_train_p_df,'question2')\n",
    "print (\"Lenght of words after adding X_train_df question 2 {}\".format(len(words_list)))\n",
    "proc_words_list = create_vocabulary(words_list,X_valid_p_df,'question1')\n",
    "print (\"Lenght of words after adding X_valid_df question 1 {}\".format(len(words_list)))\n",
    "proc_words_list = create_vocabulary(words_list,X_valid_p_df,'question2')\n",
    "print (\"Lenght of words after adding X_valid_df question 2 {}\".format(len(words_list)))\n",
    "proc_words_list = create_vocabulary(words_list,X_test_p_df,'question1')\n",
    "print (\"Lenght of words after adding X_test_df question 1 {}\".format(len(words_list)))\n",
    "proc_words_list = create_vocabulary(words_list,X_test_p_df,'question2')\n",
    "print (\"Lenght of words after adding X_test_df question 2 {}\".format(len(words_list)))\n",
    "\n"
   ]
  },
  {
   "cell_type": "code",
   "execution_count": null,
   "metadata": {
    "collapsed": true
   },
   "outputs": [],
   "source": [
    "proc_words_freq = collections.Counter(proc_words_list)"
   ]
  },
  {
   "cell_type": "code",
   "execution_count": null,
   "metadata": {
    "collapsed": true
   },
   "outputs": [],
   "source": [
    "proc_words_freq_10000 = proc_words_freq.most_common(10000)"
   ]
  },
  {
   "cell_type": "code",
   "execution_count": null,
   "metadata": {
    "collapsed": true
   },
   "outputs": [],
   "source": [
    "proc_word_in_word2vec = []\n",
    "proc_word_notin_word2vec = []\n",
    "\n",
    "for word in proc_words_freq.most_common(10000):\n",
    "    if word[0] in model.vocab:\n",
    "        proc_word_in_word2vec.append(word[0])\n",
    "    else:\n",
    "        proc_word_notin_word2vec.append(word[0])"
   ]
  },
  {
   "cell_type": "code",
   "execution_count": null,
   "metadata": {
    "collapsed": false
   },
   "outputs": [],
   "source": [
    "print (len(proc_word_in_word2vec))\n",
    "print (len(proc_word_notin_word2vec))\n",
    "print (proc_word_notin_word2vec[0:100])"
   ]
  },
  {
   "cell_type": "code",
   "execution_count": null,
   "metadata": {
    "collapsed": false
   },
   "outputs": [],
   "source": [
    "print (proc_word_in_word2vec[0:100])"
   ]
  },
  {
   "cell_type": "markdown",
   "metadata": {},
   "source": [
    "# Pipeline"
   ]
  },
  {
   "cell_type": "markdown",
   "metadata": {},
   "source": [
    "# Keras"
   ]
  },
  {
   "cell_type": "code",
   "execution_count": null,
   "metadata": {
    "collapsed": true
   },
   "outputs": [],
   "source": []
  },
  {
   "cell_type": "code",
   "execution_count": null,
   "metadata": {
    "collapsed": true
   },
   "outputs": [],
   "source": []
  },
  {
   "cell_type": "code",
   "execution_count": null,
   "metadata": {
    "collapsed": true
   },
   "outputs": [],
   "source": []
  },
  {
   "cell_type": "code",
   "execution_count": null,
   "metadata": {
    "collapsed": true
   },
   "outputs": [],
   "source": []
  },
  {
   "cell_type": "code",
   "execution_count": null,
   "metadata": {
    "collapsed": true
   },
   "outputs": [],
   "source": []
  },
  {
   "cell_type": "code",
   "execution_count": null,
   "metadata": {
    "collapsed": true
   },
   "outputs": [],
   "source": []
  },
  {
   "cell_type": "code",
   "execution_count": null,
   "metadata": {
    "collapsed": true
   },
   "outputs": [],
   "source": []
  },
  {
   "cell_type": "code",
   "execution_count": null,
   "metadata": {
    "collapsed": true
   },
   "outputs": [],
   "source": []
  },
  {
   "cell_type": "markdown",
   "metadata": {},
   "source": [
    "## Create Vocabulary"
   ]
  },
  {
   "cell_type": "code",
   "execution_count": null,
   "metadata": {
    "collapsed": true
   },
   "outputs": [],
   "source": []
  },
  {
   "cell_type": "code",
   "execution_count": null,
   "metadata": {
    "collapsed": true
   },
   "outputs": [],
   "source": [
    "#"
   ]
  }
 ],
 "metadata": {
  "anaconda-cloud": {},
  "kernelspec": {
   "display_name": "quoravenv",
   "language": "python",
   "name": "quoravenv"
  },
  "language_info": {
   "codemirror_mode": {
    "name": "ipython",
    "version": 3
   },
   "file_extension": ".py",
   "mimetype": "text/x-python",
   "name": "python",
   "nbconvert_exporter": "python",
   "pygments_lexer": "ipython3",
   "version": "3.6.1"
  }
 },
 "nbformat": 4,
 "nbformat_minor": 2
}
